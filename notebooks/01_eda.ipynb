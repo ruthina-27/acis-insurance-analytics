{
 "cells": [
  {
   "cell_type": "code",
   "execution_count": null,
   "metadata": {
    "vscode": {
     "languageId": "plaintext"
    }
   },
   "outputs": [],
   "source": [
    "import pandas as pd\n",
    "import numpy as np\n",
    "import matplotlib.pyplot as plt\n",
    "import seaborn as sns\n",
    "\n",
    "# Set plot style\n",
    "sns.set(style=\"whitegrid\")\n",
    "\n",
    "# Load the data\n",
    "df = pd.read_csv('C:\\Users\\YEADONAY\\acis-insurance-analytics\\data\\raw\\insurance_data.csv')\n",
    "\n",
    "# Show first few rows\n",
    "df.head()\n"
   ]
  },
  {
   "cell_type": "code",
   "execution_count": null,
   "metadata": {
    "vscode": {
     "languageId": "plaintext"
    }
   },
   "outputs": [],
   "source": [
    "# Summary of numerical features\n",
    "df.describe()\n"
   ]
  },
  {
   "cell_type": "code",
   "execution_count": null,
   "metadata": {
    "vscode": {
     "languageId": "plaintext"
    }
   },
   "outputs": [],
   "source": [
    "# Check data types\n",
    "df.dtypes\n"
   ]
  },
  {
   "cell_type": "code",
   "execution_count": null,
   "metadata": {
    "vscode": {
     "languageId": "plaintext"
    }
   },
   "outputs": [],
   "source": [
    "# Check shape and column names\n",
    "print(\"Shape:\", df.shape)\n",
    "df.columns.tolist()\n"
   ]
  },
  {
   "cell_type": "code",
   "execution_count": null,
   "metadata": {
    "vscode": {
     "languageId": "plaintext"
    }
   },
   "outputs": [],
   "source": [
    "# Count of missing values\n",
    "df.isnull().sum().sort_values(ascending=False)\n",
    "\n",
    "# Percentage of missing\n",
    "df.isnull().mean().sort_values(ascending=False) * 100\n"
   ]
  },
  {
   "cell_type": "code",
   "execution_count": null,
   "metadata": {
    "vscode": {
     "languageId": "plaintext"
    }
   },
   "outputs": [],
   "source": [
    "fig, axs = plt.subplots(1, 3, figsize=(18, 5))\n",
    "sns.histplot(df['TotalPremium'], bins=50, ax=axs[0], kde=True)\n",
    "axs[0].set_title('Total Premium Distribution')\n",
    "\n",
    "sns.histplot(df['TotalClaims'], bins=50, ax=axs[1], kde=True)\n",
    "axs[1].set_title('Total Claims Distribution')\n",
    "\n",
    "sns.histplot(df['CustomValueEstimate'], bins=50, ax=axs[2], kde=True)\n",
    "axs[2].set_title('Custom Value Estimate')\n",
    "plt.tight_layout()\n"
   ]
  },
  {
   "cell_type": "code",
   "execution_count": null,
   "metadata": {
    "vscode": {
     "languageId": "plaintext"
    }
   },
   "outputs": [],
   "source": [
    "fig, axs = plt.subplots(1, 3, figsize=(18, 5))\n",
    "sns.countplot(x='Gender', data=df, ax=axs[0])\n",
    "sns.countplot(x='Province', data=df, ax=axs[1])\n",
    "sns.countplot(x='VehicleType', data=df, ax=axs[2])\n",
    "plt.tight_layout()\n"
   ]
  },
  {
   "cell_type": "code",
   "execution_count": null,
   "metadata": {
    "vscode": {
     "languageId": "plaintext"
    }
   },
   "outputs": [],
   "source": [
    "df['LossRatio'] = df['TotalClaims'] / df['TotalPremium']\n",
    "\n",
    "# Loss Ratio by Gender\n",
    "sns.boxplot(x='Gender', y='LossRatio', data=df)\n",
    "plt.title('Loss Ratio by Gender')\n",
    "plt.show()\n",
    "\n",
    "# Loss Ratio by Province\n",
    "plt.figure(figsize=(12, 5))\n",
    "sns.boxplot(x='Province', y='LossRatio', data=df)\n",
    "plt.title('Loss Ratio by Province')\n",
    "plt.xticks(rotation=45)\n",
    "plt.show()\n"
   ]
  },
  {
   "cell_type": "code",
   "execution_count": null,
   "metadata": {
    "vscode": {
     "languageId": "plaintext"
    }
   },
   "outputs": [],
   "source": [
    "# Correlation heatmap\n",
    "corr = df[['TotalPremium', 'TotalClaims', 'CustomValueEstimate', 'LossRatio']].corr()\n",
    "\n",
    "plt.figure(figsize=(8, 6))\n",
    "sns.heatmap(corr, annot=True, cmap='coolwarm')\n",
    "plt.title('Correlation Matrix')\n",
    "plt.show()\n"
   ]
  },
  {
   "cell_type": "code",
   "execution_count": null,
   "metadata": {
    "vscode": {
     "languageId": "plaintext"
    }
   },
   "outputs": [],
   "source": [
    "# Boxplots\n",
    "fig, axs = plt.subplots(1, 3, figsize=(18, 5))\n",
    "sns.boxplot(y=df['TotalPremium'], ax=axs[0])\n",
    "axs[0].set_title('Total Premium Outliers')\n",
    "\n",
    "sns.boxplot(y=df['TotalClaims'], ax=axs[1])\n",
    "axs[1].set_title('Total Claims Outliers')\n",
    "\n",
    "sns.boxplot(y=df['CustomValueEstimate'], ax=axs[2])\n",
    "axs[2].set_title('Custom Value Estimate Outliers')\n",
    "\n",
    "plt.tight_layout()\n",
    "plt.show()\n"
   ]
  },
  {
   "cell_type": "code",
   "execution_count": null,
   "metadata": {
    "vscode": {
     "languageId": "plaintext"
    }
   },
   "outputs": [],
   "source": [
    "df['HasClaim'] = df['TotalClaims'] > 0\n",
    "claim_freq = df.groupby('Province')['HasClaim'].mean().sort_values()\n",
    "\n",
    "plt.figure(figsize=(12, 5))\n",
    "sns.barplot(x=claim_freq.index, y=claim_freq.values)\n",
    "plt.title('Claim Frequency by Province')\n",
    "plt.ylabel('Frequency')\n",
    "plt.xticks(rotation=45)\n",
    "plt.show()\n"
   ]
  },
  {
   "cell_type": "code",
   "execution_count": null,
   "metadata": {
    "vscode": {
     "languageId": "plaintext"
    }
   },
   "outputs": [],
   "source": [
    "make_claims = df.groupby('Make')['TotalClaims'].mean().sort_values(ascending=False).head(10)\n",
    "\n",
    "plt.figure(figsize=(12, 5))\n",
    "sns.barplot(x=make_claims.index, y=make_claims.values)\n",
    "plt.title('Top 10 Vehicle Makes by Average Claims')\n",
    "plt.xticks(rotation=45)\n",
    "plt.ylabel('Avg Claims')\n",
    "plt.show()\n"
   ]
  },
  {
   "cell_type": "code",
   "execution_count": null,
   "metadata": {
    "vscode": {
     "languageId": "plaintext"
    }
   },
   "outputs": [],
   "source": [
    "monthly = df.groupby('TransactionMonth')[['TotalPremium', 'TotalClaims']].sum()\n",
    "monthly['LossRatio'] = monthly['TotalClaims'] / monthly['TotalPremium']\n",
    "\n",
    "plt.figure(figsize=(14, 5))\n",
    "monthly['LossRatio'].plot(marker='o')\n",
    "plt.title('Monthly Loss Ratio Over Time')\n",
    "plt.xlabel('TransactionMonth')\n",
    "plt.ylabel('Loss Ratio')\n",
    "plt.grid(True)\n",
    "plt.show()\n"
   ]
  }
 ],
 "metadata": {
  "language_info": {
   "name": "python"
  }
 },
 "nbformat": 4,
 "nbformat_minor": 2
}
