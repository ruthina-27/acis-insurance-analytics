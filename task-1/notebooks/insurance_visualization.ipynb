{
 "cells": [
  {
   "cell_type": "code",
   "execution_count": null,
   "metadata": {},
   "outputs": [
    {
     "ename": "",
     "evalue": "",
     "output_type": "error",
     "traceback": [
      "\u001b[1;31mFailed to start the Kernel. \n",
      "\u001b[1;31mUnable to start Kernel 'venv (Python 3.13.3)' due to a timeout waiting for the ports to get used. \n",
      "\u001b[1;31mView Jupyter <a href='command:jupyter.viewOutput'>log</a> for further details."
     ]
    }
   ],
   "source": [
    "import pandas as pd\n",
    "import numpy as np\n",
    "import matplotlib.pyplot as plt\n",
    "import seaborn as sns\n",
    "from sklearn.ensemble import RandomForestRegressor\n",
    "import shap"
   ]
  },
  {
   "cell_type": "code",
   "execution_count": null,
   "metadata": {},
   "outputs": [],
   "source": [
    "np.random.seed(42)\n",
    "provinces = ['Gauteng', 'Western Cape', 'KwaZulu-Natal', 'Eastern Cape']\n",
    "vehicle_types = ['Sedan', 'SUV', 'Luxury', 'Truck']\n",
    "months = pd.date_range('2014-02-01', '2015-08-01', freq='M')\n",
    "loss_ratio_data = pd.DataFrame(\n",
    "    np.random.uniform(0.3, 0.8, size=(len(provinces), len(vehicle_types)),\n",
    "    index=provinces,\n",
    "    columns=vehicle_types\n",
    ")\n",
    "\n",
    "plt.figure(figsize=(10, 6))\n",
    "sns.heatmap(loss_ratio_data, annot=True, fmt=\".2f\", cmap=\"YlOrRd\", cbar_kws={'label': 'Loss Ratio'})\n",
    "plt.title(\"Loss Ratio by Province & Vehicle Type\")\n",
    "plt.tight_layout()\n",
    "plt.show()\n",
    ")"
   ]
  },
  {
   "cell_type": "code",
   "execution_count": null,
   "metadata": {},
   "outputs": [],
   "source": [
    "ts_data = pd.DataFrame({\n",
    "    'Month': months,\n",
    "    'TotalClaims': np.random.normal(50000, 15000, len(months)),\n",
    "    'TotalPremium': np.random.normal(80000, 10000, len(months))\n",
    "}).set_index('Month')\n",
    "\n",
    "plt.figure(figsize=(12, 5))\n",
    "plt.plot(ts_data.index, ts_data['TotalClaims'], label='Total Claims', color='red')\n",
    "plt.plot(ts_data.index, ts_data['TotalPremium'], label='Total Premium', color='blue')\n",
    "plt.fill_between(ts_data.index, ts_data['TotalClaims'], ts_data['TotalPremium'], \n",
    "                 where=(ts_data['TotalClaims'] > ts_data['TotalPremium']), \n",
    "                 color='red', alpha=0.3, interpolate=True)\n",
    "plt.title(\"Monthly Claims vs Premiums (Feb 2014 - Aug 2015)\")\n",
    "plt.xlabel(\"Month\")\n",
    "plt.ylabel(\"Amount (ZAR)\")\n",
    "plt.legend()\n",
    "plt.grid(True)\n",
    "plt.show()"
   ]
  },
  {
   "cell_type": "code",
   "execution_count": null,
   "metadata": {},
   "outputs": [],
   "source": [
    "X = pd.DataFrame({\n",
    "    'VehicleAge': np.random.randint(1, 20, 100),\n",
    "    'CubicCapacity': np.random.randint(1000, 3000, 100),\n",
    "    'Make': np.random.choice(['Toyota', 'BMW', 'VW'], 100),\n",
    "    'Province': np.random.choice(provinces, 100)\n",
    "})\n",
    "X = pd.get_dummies(X)  # One-hot encode\n",
    "y = np.random.uniform(5000, 50000, 100)  # Mock claims\n",
    "\n",
    "model = RandomForestRegressor().fit(X, y)\n",
    "\n",
    "# SHAP values\n",
    "explainer = shap.Explainer(model)\n",
    "shap_values = explainer(X)\n",
    "\n",
    "plt.figure()\n",
    "shap.summary_plot(shap_values, X, plot_type=\"bar\", show=False)\n",
    "plt.title(\"Top Features Influencing Claim Severity (SHAP Values)\")\n",
    "plt.tight_layout()\n",
    "plt.show()"
   ]
  }
 ],
 "metadata": {
  "kernelspec": {
   "display_name": "venv",
   "language": "python",
   "name": "python3"
  },
  "language_info": {
   "codemirror_mode": {
    "name": "ipython",
    "version": 3
   },
   "file_extension": ".py",
   "mimetype": "text/x-python",
   "name": "python",
   "nbconvert_exporter": "python",
   "pygments_lexer": "ipython3",
   "version": "3.13.3"
  }
 },
 "nbformat": 4,
 "nbformat_minor": 2
}
